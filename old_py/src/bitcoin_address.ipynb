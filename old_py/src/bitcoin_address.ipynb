{
 "cells": [
  {
   "cell_type": "code",
   "execution_count": 1,
   "metadata": {},
   "outputs": [],
   "source": [
    "import secrets, hashlib, base58check, sys, math\n",
    "from Crypto.Hash import RIPEMD160\n",
    "from AddressGenerator import *"
   ]
  },
  {
   "cell_type": "code",
   "execution_count": 9,
   "metadata": {},
   "outputs": [
    {
     "data": {
      "text/plain": [
       "{'private': '6c072e195ff4050ede5b1ba6568f058b2525aa4fdf8a7cf8551dd34432ea7490',\n",
       " 'wif': '5Jds1hwDPAmbojm8mvAxzMzMaysrnEFzXU8fUAz3LA5MK6RSFDP',\n",
       " 'pubkey': '038b3cdf2ecb21d41a26ff6b7710dafdfab4b804bed5eb718db7d99ed790085d22',\n",
       " 'addr': '1P6TVtJU5VqawEjJGQaZgKFhmXkojWWcL1',\n",
       " 'p2pkh': '33L7b5XbCMDtgd8ugdThLJT2vm4KwWvzHzi'}"
      ]
     },
     "execution_count": 9,
     "metadata": {},
     "output_type": "execute_result"
    }
   ],
   "source": [
    "priv, wif, pub, addr, p2pkh = generate()\n",
    "{\n",
    "  \"private\": priv,\n",
    "  \"wif\": wif,\n",
    "  \"pubkey\": pub,\n",
    "  \"addr\": addr,\n",
    "  \"p2pkh\": p2pkh\n",
    "}"
   ]
  }
 ],
 "metadata": {
  "kernelspec": {
   "display_name": "Python 3",
   "language": "python",
   "name": "python3"
  },
  "language_info": {
   "codemirror_mode": {
    "name": "ipython",
    "version": 3
   },
   "file_extension": ".py",
   "mimetype": "text/x-python",
   "name": "python",
   "nbconvert_exporter": "python",
   "pygments_lexer": "ipython3",
   "version": "3.9.7"
  },
  "orig_nbformat": 4
 },
 "nbformat": 4,
 "nbformat_minor": 2
}
