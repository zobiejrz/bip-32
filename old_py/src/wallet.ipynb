{
 "cells": [
  {
   "cell_type": "code",
   "execution_count": 1,
   "metadata": {},
   "outputs": [],
   "source": [
    "from Wallet import HDWallet\n",
    "from mnemonic import Mnemonic"
   ]
  },
  {
   "cell_type": "code",
   "execution_count": 2,
   "metadata": {},
   "outputs": [],
   "source": [
    "lang = \"english\"\n",
    "passphrase = \"\"\n",
    "strength = 128"
   ]
  },
  {
   "cell_type": "code",
   "execution_count": 3,
   "metadata": {},
   "outputs": [
    {
     "data": {
      "text/plain": [
       "'column scrub bleak raccoon rain merit accuse animal spy upgrade peanut present'"
      ]
     },
     "execution_count": 3,
     "metadata": {},
     "output_type": "execute_result"
    }
   ],
   "source": [
    "# Generate words\n",
    "mnemo = Mnemonic(lang)\n",
    "words = mnemo.generate(strength=strength)\n",
    "words"
   ]
  },
  {
   "cell_type": "code",
   "execution_count": 4,
   "metadata": {},
   "outputs": [
    {
     "name": "stdout",
     "output_type": "stream",
     "text": [
      "M xpub661MyMwAqRbcF189BvmZohSj9M54sti4S5zrw6zsRVdg2cmhK3sCRFdJimZpPZ7MP2a23nXt4R7fqFNwhsPqzK9J2LEUn17ukHkuJSr2vgS\n",
      "m xprv9s21ZrQH143K2X3g5uEZSZVzbKEaURzD4s5G8ibFsA6h9pSYmWYwsTJpsVsRnawuZMdXjqanzmv87N7QFdTe1djCoBrsWQmpz584GfUSoet\n",
      "M/0' xpub68VrtYgrtcNtoHH3tTVBcUzS1tTPCxGFv1nWMnxejtPZGwm6HXhRecvkmrpFpX5CmkzVvoiy4DeUpgFvvoyjvvDVYrGWbPP7F3eAF7J6TQw\n",
      "m/0' xprv9uWWV39y4EpbaoCanRxBFM3hTrctoVYQYnruZQZ3BYraQ9RwjzPB6pcGvZfqkWGbrcrtwTdfjng7mdKJUr4oS6vntWdMLtHz1uDk6hSYKCz\n",
      "M/0'/0 xpub6BUeD1RLHmAg6VVN6ZDSJk5rNFfp1gQcCJFL7FJqwV8EJCit2KomwBgZbuHmqQyBHgafdcMjHnBZ3fBuZ4C3R6rmSAwAWnjAgUVwuj6od8C\n",
      "m/0'/0 xprv9xVHoVtSTPcNt1QtzXgRwc97pDqKcDgkq5KjJruEP9bFRQPjUnVXPPN5kbKeG9GGw3eHuV8RFzNvwLnUp8rKZy8GE1qgVfsZ4ctfgCTXRKa\n"
     ]
    }
   ],
   "source": [
    "wallet = HDWallet(using='words', words=words, passphrase=passphrase, lang=lang)\n",
    "\n",
    "paths=[\"M\", \"m\", \"M/0'\", \"m/0'\", \"M/0'/0\", \"m/0'/0\"]\n",
    "\n",
    "for p in paths:\n",
    "  print(p, wallet.get(p))"
   ]
  },
  {
   "cell_type": "code",
   "execution_count": 5,
   "metadata": {},
   "outputs": [
    {
     "data": {
      "text/plain": [
       "'xprvA5nHfMXPWXrmHEzfmNfTfcK38oGABiwW2mh2raBBhmnutrS8hN3HWTqi475a93izeKNYRUoqvBPNj4vpu4Yp367uDh3Ax3XaNHfjKBU2Ma5'"
      ]
     },
     "execution_count": 5,
     "metadata": {},
     "output_type": "execute_result"
    }
   ],
   "source": [
    "wallet.get(\"m/4021/10000000/3/4/5/5\")"
   ]
  },
  {
   "cell_type": "code",
   "execution_count": 6,
   "metadata": {},
   "outputs": [],
   "source": [
    "# Test Vector 1\n",
    "seed = \"000102030405060708090a0b0c0d0e0f\"\n",
    "\n",
    "wallet = HDWallet(using=\"seed\", seed=seed)\n",
    "\n",
    "assert wallet.get(\"M\") == \"xpub661MyMwAqRbcFtXgS5sYJABqqG9YLmC4Q1Rdap9gSE8NqtwybGhePY2gZ29ESFjqJoCu1Rupje8YtGqsefD265TMg7usUDFdp6W1EGMcet8\"\n",
    "assert wallet.get(\"m\") == \"xprv9s21ZrQH143K3QTDL4LXw2F7HEK3wJUD2nW2nRk4stbPy6cq3jPPqjiChkVvvNKmPGJxWUtg6LnF5kejMRNNU3TGtRBeJgk33yuGBxrMPHi\"\n",
    "\n",
    "assert wallet.get(\"M/0'\") == \"xpub68Gmy5EdvgibQVfPdqkBBCHxA5htiqg55crXYuXoQRKfDBFA1WEjWgP6LHhwBZeNK1VTsfTFUHCdrfp1bgwQ9xv5ski8PX9rL2dZXvgGDnw\"\n",
    "assert wallet.get(\"m/0'\") == \"xprv9uHRZZhk6KAJC1avXpDAp4MDc3sQKNxDiPvvkX8Br5ngLNv1TxvUxt4cV1rGL5hj6KCesnDYUhd7oWgT11eZG7XnxHrnYeSvkzY7d2bhkJ7\"\n",
    "\n",
    "assert wallet.get(\"M/0'/1\") == \"xpub6ASuArnXKPbfEwhqN6e3mwBcDTgzisQN1wXN9BJcM47sSikHjJf3UFHKkNAWbWMiGj7Wf5uMash7SyYq527Hqck2AxYysAA7xmALppuCkwQ\"\n",
    "assert wallet.get(\"m/0'/1\") == \"xprv9wTYmMFdV23N2TdNG573QoEsfRrWKQgWeibmLntzniatZvR9BmLnvSxqu53Kw1UmYPxLgboyZQaXwTCg8MSY3H2EU4pWcQDnRnrVA1xe8fs\"\n",
    "\n",
    "assert wallet.get(\"M/0'/1/2'\") == \"xpub6D4BDPcP2GT577Vvch3R8wDkScZWzQzMMUm3PWbmWvVJrZwQY4VUNgqFJPMM3No2dFDFGTsxxpG5uJh7n7epu4trkrX7x7DogT5Uv6fcLW5\"\n",
    "assert wallet.get(\"m/0'/1/2'\") == \"xprv9z4pot5VBttmtdRTWfWQmoH1taj2axGVzFqSb8C9xaxKymcFzXBDptWmT7FwuEzG3ryjH4ktypQSAewRiNMjANTtpgP4mLTj34bhnZX7UiM\"\n",
    "\n",
    "assert wallet.get(\"M/0'/1/2'/2\") == \"xpub6FHa3pjLCk84BayeJxFW2SP4XRrFd1JYnxeLeU8EqN3vDfZmbqBqaGJAyiLjTAwm6ZLRQUMv1ZACTj37sR62cfN7fe5JnJ7dh8zL4fiyLHV\"\n",
    "assert wallet.get(\"m/0'/1/2'/2\") == \"xprvA2JDeKCSNNZky6uBCviVfJSKyQ1mDYahRjijr5idH2WwLsEd4Hsb2Tyh8RfQMuPh7f7RtyzTtdrbdqqsunu5Mm3wDvUAKRHSC34sJ7in334\"\n",
    "\n",
    "assert wallet.get(\"M/0'/1/2'/2/1000000000\") == \"xpub6H1LXWLaKsWFhvm6RVpEL9P4KfRZSW7abD2ttkWP3SSQvnyA8FSVqNTEcYFgJS2UaFcxupHiYkro49S8yGasTvXEYBVPamhGW6cFJodrTHy\"\n",
    "assert wallet.get(\"m/0'/1/2'/2/1000000000\") == \"xprvA41z7zogVVwxVSgdKUHDy1SKmdb533PjDz7J6N6mV6uS3ze1ai8FHa8kmHScGpWmj4WggLyQjgPie1rFSruoUihUZREPSL39UNdE3BBDu76\""
   ]
  },
  {
   "cell_type": "code",
   "execution_count": 7,
   "metadata": {},
   "outputs": [],
   "source": [
    "# Test Vector 2\n",
    "\n",
    "seed = \"fffcf9f6f3f0edeae7e4e1dedbd8d5d2cfccc9c6c3c0bdbab7b4b1aeaba8a5a29f9c999693908d8a8784817e7b7875726f6c696663605d5a5754514e4b484542\"\n",
    "\n",
    "wallet = HDWallet(using=\"seed\", seed=seed)\n",
    "\n",
    "assert wallet.get(\"M\") == \"xpub661MyMwAqRbcFW31YEwpkMuc5THy2PSt5bDMsktWQcFF8syAmRUapSCGu8ED9W6oDMSgv6Zz8idoc4a6mr8BDzTJY47LJhkJ8UB7WEGuduB\"\n",
    "assert wallet.get(\"m\") == \"xprv9s21ZrQH143K31xYSDQpPDxsXRTUcvj2iNHm5NUtrGiGG5e2DtALGdso3pGz6ssrdK4PFmM8NSpSBHNqPqm55Qn3LqFtT2emdEXVYsCzC2U\"\n",
    "\n",
    "assert wallet.get(\"M/0\") == \"xpub69H7F5d8KSRgmmdJg2KhpAK8SR3DjMwAdkxj3ZuxV27CprR9LgpeyGmXUbC6wb7ERfvrnKZjXoUmmDznezpbZb7ap6r1D3tgFxHmwMkQTPH\"\n",
    "assert wallet.get(\"m/0\") == \"xprv9vHkqa6EV4sPZHYqZznhT2NPtPCjKuDKGY38FBWLvgaDx45zo9WQRUT3dKYnjwih2yJD9mkrocEZXo1ex8G81dwSM1fwqWpWkeS3v86pgKt\"\n",
    "\n",
    "assert wallet.get(\"M/0/2147483647'\") == \"xpub6ASAVgeehLbnwdqV6UKMHVzgqAG8Gr6riv3Fxxpj8ksbH9ebxaEyBLZ85ySDhKiLDBrQSARLq1uNRts8RuJiHjaDMBU4Zn9h8LZNnBC5y4a\"\n",
    "assert wallet.get(\"m/0/2147483647'\") == \"xprv9wSp6B7kry3Vj9m1zSnLvN3xH8RdsPP1Mh7fAaR7aRLcQMKTR2vidYEeEg2mUCTAwCd6vnxVrcjfy2kRgVsFawNzmjuHc2YmYRmagcEPdU9\"\n",
    "\n",
    "assert wallet.get(\"M/0/2147483647'/1\") == \"xpub6DF8uhdarytz3FWdA8TvFSvvAh8dP3283MY7p2V4SeE2wyWmG5mg5EwVvmdMVCQcoNJxGoWaU9DCWh89LojfZ537wTfunKau47EL2dhHKon\"\n",
    "assert wallet.get(\"m/0/2147483647'/1\") == \"xprv9zFnWC6h2cLgpmSA46vutJzBcfJ8yaJGg8cX1e5StJh45BBciYTRXSd25UEPVuesF9yog62tGAQtHjXajPPdbRCHuWS6T8XA2ECKADdw4Ef\"\n",
    "\n",
    "assert wallet.get(\"M/0/2147483647'/1/2147483646'\") == \"xpub6ERApfZwUNrhLCkDtcHTcxd75RbzS1ed54G1LkBUHQVHQKqhMkhgbmJbZRkrgZw4koxb5JaHWkY4ALHY2grBGRjaDMzQLcgJvLJuZZvRcEL\"\n",
    "assert wallet.get(\"m/0/2147483647'/1/2147483646'\") == \"xprvA1RpRA33e1JQ7ifknakTFpgNXPmW2YvmhqLQYMmrj4xJXXWYpDPS3xz7iAxn8L39njGVyuoseXzU6rcxFLJ8HFsTjSyQbLYnMpCqE2VbFWc\"\n",
    "\n",
    "assert wallet.get(\"M/0/2147483647'/1/2147483646'/2\") == \"xpub6FnCn6nSzZAw5Tw7cgR9bi15UV96gLZhjDstkXXxvCLsUXBGXPdSnLFbdpq8p9HmGsApME5hQTZ3emM2rnY5agb9rXpVGyy3bdW6EEgAtqt\"\n",
    "assert wallet.get(\"m/0/2147483647'/1/2147483646'/2\") == \"xprvA2nrNbFZABcdryreWet9Ea4LvTJcGsqrMzxHx98MMrotbir7yrKCEXw7nadnHM8Dq38EGfSh6dqA9QWTyefMLEcBYJUuekgW4BYPJcr9E7j\"\n"
   ]
  },
  {
   "cell_type": "code",
   "execution_count": 8,
   "metadata": {},
   "outputs": [],
   "source": [
    "# Test Vector 3\n",
    "\n",
    "seed = \"4b381541583be4423346c643850da4b320e46a87ae3d2a4e6da11eba819cd4acba45d239319ac14f863b8d5ab5a0d0c64d2e8a1e7d1457df2e5a3c51c73235be\"\n",
    "\n",
    "wallet = HDWallet(using=\"seed\", seed=seed)\n",
    "\n",
    "assert wallet.get(\"M\") == \"xpub661MyMwAqRbcEZVB4dScxMAdx6d4nFc9nvyvH3v4gJL378CSRZiYmhRoP7mBy6gSPSCYk6SzXPTf3ND1cZAceL7SfJ1Z3GC8vBgp2epUt13\"\n",
    "assert wallet.get(\"m\") == \"xprv9s21ZrQH143K25QhxbucbDDuQ4naNntJRi4KUfWT7xo4EKsHt2QJDu7KXp1A3u7Bi1j8ph3EGsZ9Xvz9dGuVrtHHs7pXeTzjuxBrCmmhgC6\"\n",
    "\n",
    "assert wallet.get(\"M/0'\") == \"xpub68NZiKmJWnxxS6aaHmn81bvJeTESw724CRDs6HbuccFQN9Ku14VQrADWgqbhhTHBaohPX4CjNLf9fq9MYo6oDaPPLPxSb7gwQN3ih19Zm4Y\"\n",
    "assert wallet.get(\"m/0'\") == \"xprv9uPDJpEQgRQfDcW7BkF7eTya6RPxXeJCqCJGHuCJ4GiRVLzkTXBAJMu2qaMWPrS7AANYqdq6vcBcBUdJCVVFceUvJFjaPdGZ2y9WACViL4L\"\n"
   ]
  },
  {
   "cell_type": "code",
   "execution_count": 9,
   "metadata": {},
   "outputs": [],
   "source": [
    "# Test Vector 4\n",
    "\n",
    "seed = \"3ddd5602285899a946114506157c7997e5444528f3003f6134712147db19b678\"\n",
    "\n",
    "wallet = HDWallet(using=\"seed\", seed=seed)\n",
    "\n",
    "assert wallet.get(\"M\") == \"xpub661MyMwAqRbcGczjuMoRm6dXaLDEhW1u34gKenbeYqAix21mdUKJyuyu5F1rzYGVxyL6tmgBUAEPrEz92mBXjByMRiJdba9wpnN37RLLAXa\"\n",
    "assert wallet.get(\"m\") == \"xprv9s21ZrQH143K48vGoLGRPxgo2JNkJ3J3fqkirQC2zVdk5Dgd5w14S7fRDyHH4dWNHUgkvsvNDCkvAwcSHNAQwhwgNMgZhLtQC63zxwhQmRv\"\n",
    "\n",
    "assert wallet.get(\"M/0'\") == \"xpub69AUMk3qDBi3uW1sXgjCmVjJ2G6WQoYSnNHyzkmdCHEhSZ4tBok37xfFEqHd2AddP56Tqp4o56AePAgCjYdvpW2PU2jbUPFKsav5ut6Ch1m\"\n",
    "assert wallet.get(\"m/0'\") == \"xprv9vB7xEWwNp9kh1wQRfCCQMnZUEG21LpbR9NPCNN1dwhiZkjjeGRnaALmPXCX7SgjFTiCTT6bXes17boXtjq3xLpcDjzEuGLQBM5ohqkao9G\"\n",
    "\n",
    "assert wallet.get(\"M/0'/1'\") == \"xpub6BJA1jSqiukeaesWfxe6sNK9CCGaujFFSJLomWHprUL9DePQ4JDkM5d88n49sMGJxrhpjazuXYWdMf17C9T5XnxkopaeS7jGk1GyyVziaMt\"\n",
    "assert wallet.get(\"m/0'/1'\") == \"xprv9xJocDuwtYCMNAo3Zw76WENQeAS6WGXQ55RCy7tDJ8oALr4FWkuVoHJeHVAcAqiZLE7Je3vZJHxspZdFHfnBEjHqU5hG1Jaj32dVoS6XLT1\"\n"
   ]
  }
 ],
 "metadata": {
  "kernelspec": {
   "display_name": "Python 3",
   "language": "python",
   "name": "python3"
  },
  "language_info": {
   "codemirror_mode": {
    "name": "ipython",
    "version": 3
   },
   "file_extension": ".py",
   "mimetype": "text/x-python",
   "name": "python",
   "nbconvert_exporter": "python",
   "pygments_lexer": "ipython3",
   "version": "3.9.7"
  },
  "orig_nbformat": 4
 },
 "nbformat": 4,
 "nbformat_minor": 2
}
